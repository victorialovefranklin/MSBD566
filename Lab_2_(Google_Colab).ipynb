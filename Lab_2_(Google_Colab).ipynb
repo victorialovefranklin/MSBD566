{
  "nbformat": 4,
  "nbformat_minor": 0,
  "metadata": {
    "colab": {
      "provenance": [],
      "authorship_tag": "ABX9TyN4KF62yUXVJ9jIlQ16WSp4",
      "include_colab_link": true
    },
    "kernelspec": {
      "name": "python3",
      "display_name": "Python 3"
    },
    "language_info": {
      "name": "python"
    }
  },
  "cells": [
    {
      "cell_type": "markdown",
      "metadata": {
        "id": "view-in-github",
        "colab_type": "text"
      },
      "source": [
        "<a href=\"https://colab.research.google.com/github/victorialovefranklin/MSBD566/blob/main/Lab_2_(Google_Colab).ipynb\" target=\"_parent\"><img src=\"https://colab.research.google.com/assets/colab-badge.svg\" alt=\"Open In Colab\"/></a>"
      ]
    },
    {
      "cell_type": "markdown",
      "source": [
        "# Lab (Colab): Secure Retrieval & Analysis of Tennessee SARS-CoV-2 Data\n",
        "\n",
        "---\n",
        "\n",
        "## Step 1: Mount Google Drive\n",
        "\n",
        "This step connects Colab to your Google Drive so you can access your secure folder. Follow the prompt to authorize access.\n",
        "\n"
      ],
      "metadata": {
        "id": "FUTX9FPeq37R"
      }
    },
    {
      "cell_type": "code",
      "execution_count": null,
      "metadata": {
        "colab": {
          "base_uri": "https://localhost:8080/"
        },
        "id": "yL-Xz-TTjgtU",
        "outputId": "e59115ee-d7c9-4819-82fe-43a07e93866a"
      },
      "outputs": [
        {
          "output_type": "stream",
          "name": "stdout",
          "text": [
            "Drive already mounted at /content/drive; to attempt to forcibly remount, call drive.mount(\"/content/drive\", force_remount=True).\n"
          ]
        }
      ],
      "source": [
        "from google.colab import drive\n",
        "drive.mount('/content/drive')  # Follow the prompt to authorize access"
      ]
    },
    {
      "cell_type": "markdown",
      "source": [
        "## Step 2: Set Paths to Your Secure Folder & List Files\n",
        "\n",
        "Update **BASE_DIR** to match the location of your lab folder in Google Drive.\n",
        "This will confirm the raw CSVs are present in data/raw/.\n",
        "\n",
        "You should see the three CSVs listed:\n",
        "\n",
        "- CDC_NWSS_TN_Wastewater.csv\n",
        "- WastewaterSCAN_TN_SARS2.csv\n",
        "- CDC_COVIDNET_ClinicalCases_2024_2025.csv"
      ],
      "metadata": {
        "id": "gKW319vjrIhO"
      }
    },
    {
      "cell_type": "code",
      "source": [
        "import os, glob\n",
        "\n",
        "# Path to your lab folder inside Google Drive\n",
        "BASE_DIR = \"/content/drive/MyDrive/Secure_Biosurveillance_Data\"  # <- edit if needed\n",
        "\n",
        "print(\"Base:\", BASE_DIR)\n",
        "\n",
        "# Find all CSVs directly inside the folder\n",
        "csvs = glob.glob(os.path.join(BASE_DIR, \"*.csv\"))\n",
        "print(\"Found CSV files:\")\n",
        "for p in csvs:\n",
        "    print(\" -\", os.path.basename(p))\n"
      ],
      "metadata": {
        "colab": {
          "base_uri": "https://localhost:8080/"
        },
        "id": "-sLIZnRVlfi_",
        "outputId": "d375196a-325c-4a56-c463-2fe0e7de4c8c"
      },
      "execution_count": null,
      "outputs": [
        {
          "output_type": "stream",
          "name": "stdout",
          "text": [
            "Base: /content/drive/MyDrive/Secure_Biosurveillance_Data\n",
            "Found CSV files:\n",
            " - WastewaterSCAN_TN_SARS2.csv.csv\n",
            " - CDC_NWSS_TN_Wastewater.csv\n",
            " - CDC_COVIDNET_ClinicalCases_2024_2025.csv\n"
          ]
        }
      ]
    },
    {
      "cell_type": "markdown",
      "source": [
        "## Step 3: Create a Working Area (Don’t Modify Raw Files)\n",
        "\n",
        "We’ll keep data/raw/ as read-only and write any processed outputs to a separate folder."
      ],
      "metadata": {
        "id": "bMcVXJSKrwNr"
      }
    },
    {
      "cell_type": "code",
      "source": [
        "import os\n",
        "\n",
        "WORK_DIR = \"/content/working\"\n",
        "os.makedirs(WORK_DIR, exist_ok=True)\n",
        "print(\"Working directory:\", WORK_DIR)\n",
        "\n"
      ],
      "metadata": {
        "colab": {
          "base_uri": "https://localhost:8080/"
        },
        "id": "oQ8ZlF-pmX8o",
        "outputId": "1b11d3e4-0ab1-411f-a03e-60b03780907a"
      },
      "execution_count": null,
      "outputs": [
        {
          "output_type": "stream",
          "name": "stdout",
          "text": [
            "Working directory: /content/working\n"
          ]
        }
      ]
    },
    {
      "cell_type": "markdown",
      "source": [
        "## Step 4: Load the Datasets with Pandas\n",
        "\n",
        "- Now load the three CSVs into DataFrames.  \n",
        "- Check their lengths to confirm successful loading.\n",
        "- Expected: three numbers (row counts for each dataset)."
      ],
      "metadata": {
        "id": "pQT9K5RVr3lN"
      }
    },
    {
      "cell_type": "code",
      "source": [
        "import pandas as pd\n",
        "import os\n",
        "\n",
        "# File paths (directly inside Secure_Biosurveillance_Data)\n",
        "path_nwss     = os.path.join(BASE_DIR, \"/content/drive/MyDrive/Secure_Biosurveillance_Data/CDC_NWSS_TN_Wastewater.csv\")\n",
        "path_wwscan   = os.path.join(BASE_DIR, \"/content/drive/MyDrive/Secure_Biosurveillance_Data/WastewaterSCAN_TN_SARS2.csv.csv\")\n",
        "path_covidnet = os.path.join(BASE_DIR, \"/content/drive/MyDrive/Secure_Biosurveillance_Data/CDC_COVIDNET_ClinicalCases_2024_2025.csv\")\n",
        "\n",
        "# Load CSVs\n",
        "df_nwss     = pd.read_csv(path_nwss)\n",
        "df_wwscan   = pd.read_csv(path_wwscan)\n",
        "df_covidnet = pd.read_csv(path_covidnet)\n",
        "\n",
        "# Check number of rows in each dataset\n",
        "len(df_nwss), len(df_wwscan), len(df_covidnet)\n"
      ],
      "metadata": {
        "colab": {
          "base_uri": "https://localhost:8080/"
        },
        "id": "a1BUk3VXmuVY",
        "outputId": "b374fa92-4257-4006-b870-0cc87c459a7f"
      },
      "execution_count": null,
      "outputs": [
        {
          "output_type": "execute_result",
          "data": {
            "text/plain": [
              "(14027, 192, 185194)"
            ]
          },
          "metadata": {},
          "execution_count": 78
        }
      ]
    },
    {
      "cell_type": "markdown",
      "source": [
        "## Step 5: Quick Data Health Check\n",
        "\n",
        "Before moving to analysis, always inspect your datasets to ensure they loaded correctly.  \n",
        "We’ll check:\n",
        "- Shape (rows × columns)  \n",
        "- Column names  \n",
        "- First few rows  \n",
        "- Missing value counts"
      ],
      "metadata": {
        "id": "HGXKgRUVu_4s"
      }
    },
    {
      "cell_type": "code",
      "source": [
        "def quick_check(df, name):\n",
        "    print(f\"\\n=== {name} ===\")\n",
        "    print(\"Shape:\", df.shape)\n",
        "    print(\"Columns:\", list(df.columns))\n",
        "    print(\"\\nFirst rows:\")\n",
        "    print(df.head(3))\n",
        "    print(\"\\nMissing values (top 10):\")\n",
        "    print(df.isna().sum().sort_values(ascending=False).head(10))\n",
        "\n",
        "quick_check(df_nwss, \"CDC NWSS (Wastewater)\")\n",
        "quick_check(df_wwscan, \"WastewaterSCAN (SARS-CoV-2)\")\n",
        "quick_check(df_covidnet, \"CDC COVID-NET (Clinical Cases)\")"
      ],
      "metadata": {
        "colab": {
          "base_uri": "https://localhost:8080/"
        },
        "id": "FgGc9fGsvDzk",
        "outputId": "83036f18-e60f-42cd-803b-dc17f9936eb1"
      },
      "execution_count": null,
      "outputs": [
        {
          "output_type": "stream",
          "name": "stdout",
          "text": [
            "\n",
            "=== CDC NWSS (Wastewater) ===\n",
            "Shape: (14027, 9)\n",
            "Columns: ['State/Territory', 'Week_Ending_Date', 'Data_Collection_Period', 'State/Territory_WVAL', 'National_WVAL', 'Regional_WVAL', 'WVAL_Category', 'Coverage', 'date_updated']\n",
            "\n",
            "First rows:\n",
            "  State/Territory Week_Ending_Date Data_Collection_Period  \\\n",
            "0    South Dakota        1/20/2024            All Results   \n",
            "1       Tennessee         1/1/2022            All Results   \n",
            "2    South Dakota        9/14/2024                 1 Year   \n",
            "\n",
            "   State/Territory_WVAL  National_WVAL  Regional_WVAL WVAL_Category  \\\n",
            "0             16.655816       7.185262       7.864493     Very High   \n",
            "1              3.368486      20.012608      24.156987           Low   \n",
            "2              8.444015       7.952651       8.444015     Very High   \n",
            "\n",
            "           Coverage              date_updated  \n",
            "0  Limited Coverage  2025-09-18T07:27:17.693Z  \n",
            "1  Limited Coverage  2025-09-18T07:27:17.693Z  \n",
            "2  Limited Coverage  2025-09-18T07:27:17.693Z  \n",
            "\n",
            "Missing values (top 10):\n",
            "Coverage                  13458\n",
            "State/Territory_WVAL        356\n",
            "State/Territory               0\n",
            "Data_Collection_Period        0\n",
            "Week_Ending_Date              0\n",
            "National_WVAL                 0\n",
            "Regional_WVAL                 0\n",
            "WVAL_Category                 0\n",
            "date_updated                  0\n",
            "dtype: int64\n",
            "\n",
            "=== WastewaterSCAN (SARS-CoV-2) ===\n",
            "Shape: (192, 69)\n",
            "Columns: ['state', 'us census region', 'plant', 'site name', 'last sample date', 'BA.2 LPPA24S category', 'BA.2 LPPA24S method', 'BA.4 ORF1a Del 141-143 category', 'BA.4 ORF1a Del 141-143 method', 'C_auris category', 'C_auris method', 'Delta 156-157 category', 'Delta 156-157 method', 'EVD68 category', 'EVD68 level', 'EVD68 method', 'EVD68 trend', 'HAV category', 'HAV method', 'HAdV_F category', 'HAdV_F method', 'HMPV_4 category', 'HMPV_4 method', 'HPIV category', 'HPIV method', 'HV 69-70 Del category', 'HV 69-70 Del method', 'InfA_H1 category', 'InfA_H1 method', 'InfA_H3_V2 category', 'InfA_H3_V2 method', 'InfA_H5 category', 'InfA_H5 method', 'Influenza A category', 'Influenza A level', 'Influenza A method', 'Influenza A trend', 'Influenza B category', 'Influenza B method', 'MPXV_G2R_G category', 'MPXV_G2R_G method', 'MPXV_G2R_WA category', 'MPXV_G2R_WA method', 'MPXV_dD14-16 category', 'MPXV_dD14-16 method', 'MeV_Roy category', 'MeV_Roy method', 'N Gene category', 'N Gene level', 'N Gene method', 'N Gene trend', 'Noro_G2 category', 'Noro_G2 level', 'Noro_G2 method', 'Noro_G2 trend', 'Omicron Del 143-145 category', 'Omicron Del 143-145 method', 'Parvo_B19 category', 'Parvo_B19 method', 'RSV category', 'RSV method', 'Rota category', 'Rota level', 'Rota method', 'Rota trend', 'S Gene category', 'S Gene method', 'XBB_bkpt category', 'XBB_bkpt method']\n",
            "\n",
            "First rows:\n",
            "     state us census region                         plant  \\\n",
            "0  Alabama            South                  Bessemer, AL   \n",
            "1  Alabama            South  Cahaba River, Birmingham, AL   \n",
            "2  Alabama            South                Fultondale, AL   \n",
            "\n",
            "                                    site name last sample date  \\\n",
            "0     Valley Creek Water Reclamation Facility       2025-09-22   \n",
            "1     Cahaba River Water Reclamation Facility       2025-09-22   \n",
            "2  Five Mile Creek Water Reclamation Facility       2025-09-22   \n",
            "\n",
            "  BA.2 LPPA24S category BA.2 LPPA24S method BA.4 ORF1a Del 141-143 category  \\\n",
            "0        not calculated                none                  not calculated   \n",
            "1        not calculated                none                  not calculated   \n",
            "2        not calculated                none                  not calculated   \n",
            "\n",
            "  BA.4 ORF1a Del 141-143 method C_auris category  ... RSV category RSV method  \\\n",
            "0                          none     not detected  ...          low   seasonal   \n",
            "1                          none     not detected  ...          low   seasonal   \n",
            "2                          none              low  ...          low   seasonal   \n",
            "\n",
            "  Rota category Rota level        Rota method            Rota trend  \\\n",
            "0        medium     medium  commonly detected  no significant trend   \n",
            "1           low        low  commonly detected  no significant trend   \n",
            "2        medium     medium  commonly detected  no significant trend   \n",
            "\n",
            "  S Gene category S Gene method XBB_bkpt category XBB_bkpt method  \n",
            "0  not calculated          none    not calculated            none  \n",
            "1  not calculated          none    not calculated            none  \n",
            "2  not calculated          none    not calculated            none  \n",
            "\n",
            "[3 rows x 69 columns]\n",
            "\n",
            "Missing values (top 10):\n",
            "Influenza A trend    190\n",
            "Influenza A level    190\n",
            "EVD68 trend          184\n",
            "EVD68 level          184\n",
            "Noro_G2 trend         68\n",
            "Rota trend            68\n",
            "Rota level            68\n",
            "Noro_G2 level         68\n",
            "N Gene trend          68\n",
            "N Gene level          68\n",
            "dtype: int64\n",
            "\n",
            "=== CDC COVID-NET (Clinical Cases) ===\n",
            "Shape: (185194, 9)\n",
            "Columns: ['State', 'Season', '_WeekendDate', 'AgeCategory_Legend', 'Sex_Label', 'Race_Label', 'Type', 'WeeklyRate', 'CumulativeRate']\n",
            "\n",
            "First rows:\n",
            "  State   Season _WeekendDate AgeCategory_Legend Sex_Label Race_Label  \\\n",
            "0  Utah  2020-21    10/2/2021     6mo-<12 months       All        All   \n",
            "1  Utah  2020-21    9/25/2021     6mo-<12 months       All        All   \n",
            "2  Utah  2020-21    9/18/2021     6mo-<12 months       All        All   \n",
            "\n",
            "         Type  WeeklyRate  CumulativeRate  \n",
            "0  Crude Rate        12.4            62.2  \n",
            "1  Crude Rate         0.0            49.8  \n",
            "2  Crude Rate         0.0            49.8  \n",
            "\n",
            "Missing values (top 10):\n",
            "State                 0\n",
            "Season                0\n",
            "_WeekendDate          0\n",
            "AgeCategory_Legend    0\n",
            "Sex_Label             0\n",
            "Race_Label            0\n",
            "Type                  0\n",
            "WeeklyRate            0\n",
            "CumulativeRate        0\n",
            "dtype: int64\n"
          ]
        }
      ]
    }
  ]
}