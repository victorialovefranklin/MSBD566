{
  "cells": [
    {
      "cell_type": "markdown",
      "metadata": {
        "id": "view-in-github",
        "colab_type": "text"
      },
      "source": [
        "<a href=\"https://colab.research.google.com/github/victorialovefranklin/MSBD566/blob/main/Lab_1__GitHub_setup.ipynb\" target=\"_parent\"><img src=\"https://colab.research.google.com/assets/colab-badge.svg\" alt=\"Open In Colab\"/></a>"
      ]
    },
    {
      "cell_type": "markdown",
      "id": "59f8becd",
      "metadata": {
        "id": "59f8becd"
      },
      "source": [
        "# **LAB 1:  GitHub setup**\n",
        "**Objective:** Learn how to create a GitHub account, set up your first repository, and connect it with Google Colab for lab submissions.\n",
        "\n",
        "\n",
        "**Last Updated:** September 29, 2025  \n",
        "**Author:** *Victoria Love Franklin*"
      ]
    },
    {
      "cell_type": "markdown",
      "id": "ba382ce4",
      "metadata": {
        "id": "ba382ce4"
      },
      "source": [
        "## **Student Exercise**\n",
        "- Create a GitHub profile and fork your first repository.\n",
        "\n",
        "**Please Note:** This tutorial assumes you do not already have a GitHub account."
      ]
    },
    {
      "cell_type": "markdown",
      "id": "4199a69c",
      "metadata": {
        "id": "4199a69c"
      },
      "source": [
        "## **Step 1: Create a GitHub Account**\n",
        "1. Go to <https://github.com/join>  \n",
        "2. Fill in the required details:  \n",
        "- **Username**: Choose a professional username (e.g., `john-franklin` instead of `coolgirl123`).  \n",
        "- **Email Address**: Use your academic or professional email.  \n",
        "- **Password**: Create a strong, unique password.  \n",
        "3. **Verify** your email address by clicking the link sent to your inbox.\n",
        "\n",
        "**Done!** You now have a GitHub account."
      ]
    },
    {
      "cell_type": "markdown",
      "id": "68abb83f",
      "metadata": {
        "id": "68abb83f"
      },
      "source": [
        "## **Step 2: Fork Your First Repository**\n",
        "Forking allows you to create your own copy of someone else’s repository so you can explore, edit, and complete exercises without changing the original.\n",
        "\n",
        "1. Go to the repository: **CyberInfrastructure & Data Analysis for (COVID-19) Surveillance**  \n",
        "   <https://github.com/victorialovefranklin/CyberInfrastructure-Data-Analysis-for-COVID-19-Surveillance>  \n",
        "2. In the top-right corner, click **Fork**.  \n",
        "3. GitHub will create a copy of the repository under **your account**.  \n",
        "4. You can now read materials, complete exercises, and save your work in **your fork**."
      ]
    },
    {
      "cell_type": "markdown",
      "id": "1f4da89b",
      "metadata": {
        "id": "1f4da89b"
      },
      "source": [
        "## **Step 4: Open a Lab in Google Colab**\n",
        "1. In your fork, navigate to the Lab 2 file\n",
        "2. Open it in Colab:\n",
        "   - Click the file, click the **Open in Colab** badge (if present), **or**  \n",
        "   - Copy the notebook URL and open it in Colab manually via <https://colab.research.google.com/> **GitHub** tab and paste the URL.\n",
        "\n",
        "3. Once the notebook is open in Colab, you can run cells with **Shift+Enter**."
      ]
    },
    {
      "cell_type": "markdown",
      "id": "17ea87a6",
      "metadata": {
        "id": "17ea87a6"
      },
      "source": [
        "## **Step 3: Complete the Lab in Colab & Save Back to GitHub**\n",
        "1. Follow the lab instructions and write your code/answers.  \n",
        "2. When finished, save back to **your fork**:\n",
        "   - **Click File and Save a copy in GitHub**  \n",
        "   - Choose your repository  \n",
        "   - Keep the same folder path  \n",
        "   - Add a clear commit message (e.g., `Completed Lab 2`).  "
      ]
    },
    {
      "cell_type": "markdown",
      "id": "e2271ec9",
      "metadata": {
        "id": "e2271ec9"
      },
      "source": [
        "## **Step 4: Verify Your Work on GitHub**\n",
        "1. Return to **your fork** on GitHub.  \n",
        "2. Navigate to the folder   \n",
        "3. Confirm your updated notebook now shows your edits and the latest timestamp.  \n",
        "4. Click the file to preview outputs rendered by GitHub."
      ]
    },
    {
      "cell_type": "markdown",
      "id": "ad5e3db4",
      "metadata": {
        "id": "ad5e3db4"
      },
      "source": [
        "## **Step 5: Submit Your Work**\n",
        "- Share your fork link **Or** open a **Pull Request** from your fork back to the instructor’s repository (title it clearly, e.g., `Lab 2 Submission - Your Name`).\n",
        "\n",
        "**Pull Request basics:**  \n",
        "1. Go to **Pull requests** → **New pull request**.  \n",
        "2. Set **base repository** to the instructor’s repo and **head repository** to your fork.  \n",
        "3. Add a description (what you completed, any notes).  \n",
        "4. Click **Create pull request**."
      ]
    },
    {
      "cell_type": "markdown",
      "id": "04784bf9",
      "metadata": {
        "id": "04784bf9"
      },
      "source": [
        "## **Student Checklist**\n",
        "- [ ] Created a GitHub account  \n",
        "- [ ] Forked the instructor’s repository  \n",
        "- [ ] Opened a lab notebook in Colab  \n",
        "- [ ] Completed exercises  \n",
        "- [ ] Saved notebook back to GitHub (in **your fork**)  \n",
        "- [ ] Verified updates in your fork  \n",
        "- [ ] Submitted link or Pull Request to instructor"
      ]
    },
    {
      "cell_type": "markdown",
      "id": "a7d2b41f",
      "metadata": {
        "id": "a7d2b41f"
      },
      "source": [
        "## **Troubleshooting Tips**\n",
        "- **Can’t find the notebook in Colab?** Use Colab’s **GitHub** tab and paste the full notebook URL.  \n",
        "- **Changes not showing?** Refresh GitHub, ensure you saved to **your** repo/fork and the correct path.  \n",
        "- **Badge not working?** Check the username/repo/path in the badge URL.  \n",
        "- **Private repo access in Colab?** You may need to authorize GitHub in Colab when prompted."
      ]
    },
    {
      "cell_type": "markdown",
      "id": "22632fbb",
      "metadata": {
        "id": "22632fbb"
      },
      "source": [
        "---\n",
        "**End of Lab:** You now know how to set up GitHub, fork a repository, open notebooks in Colab, save your work back to GitHub, and submit your labs."
      ]
    }
  ],
  "metadata": {
    "colab": {
      "provenance": [],
      "include_colab_link": true
    },
    "language_info": {
      "name": "python"
    },
    "kernelspec": {
      "name": "python3",
      "display_name": "Python 3"
    }
  },
  "nbformat": 4,
  "nbformat_minor": 5
}